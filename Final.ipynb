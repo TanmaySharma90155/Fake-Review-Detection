{
 "cells": [
  {
   "cell_type": "code",
   "execution_count": 2,
   "metadata": {},
   "outputs": [
    {
     "name": "stderr",
     "output_type": "stream",
     "text": [
      "[nltk_data] Downloading package stopwords to\n",
      "[nltk_data]     C:\\Users\\KIIT\\AppData\\Roaming\\nltk_data...\n",
      "[nltk_data]   Package stopwords is already up-to-date!\n",
      "[nltk_data] Downloading package wordnet to\n",
      "[nltk_data]     C:\\Users\\KIIT\\AppData\\Roaming\\nltk_data...\n",
      "[nltk_data]   Package wordnet is already up-to-date!\n",
      "[nltk_data] Downloading package punkt to\n",
      "[nltk_data]     C:\\Users\\KIIT\\AppData\\Roaming\\nltk_data...\n",
      "[nltk_data]   Package punkt is already up-to-date!\n"
     ]
    },
    {
     "name": "stdout",
     "output_type": "stream",
     "text": [
      "(40432, 4)\n"
     ]
    },
    {
     "data": {
      "text/plain": [
       "label\n",
       "CG    20216\n",
       "OR    20216\n",
       "Name: count, dtype: int64"
      ]
     },
     "execution_count": 2,
     "metadata": {},
     "output_type": "execute_result"
    }
   ],
   "source": [
    "import pandas as pd\n",
    "import numpy as np\n",
    "import seaborn as sns\n",
    "import matplotlib.pyplot as plt\n",
    "import nltk\n",
    "from nltk.corpus import stopwords\n",
    "from nltk.stem import PorterStemmer\n",
    "from nltk.sentiment.vader import SentimentIntensityAnalyzer\n",
    "from sklearn.model_selection import train_test_split\n",
    "from sklearn.metrics import accuracy_score\n",
    "from sklearn.metrics import classification_report\n",
    "from sklearn.model_selection import cross_val_score\n",
    "from sklearn.linear_model import LogisticRegression \n",
    "from sklearn.naive_bayes import MultinomialNB\n",
    "from sklearn.naive_bayes import BernoulliNB\n",
    "from sklearn.linear_model import SGDClassifier\n",
    "from sklearn.ensemble import RandomForestClassifier\n",
    "from sklearn import metrics\n",
    "from sklearn.feature_extraction.text import TfidfVectorizer\n",
    "from sklearn.model_selection import GridSearchCV\n",
    "import re \n",
    "import string\n",
    "\n",
    "nltk.download('stopwords') # removes common words\n",
    "nltk.download('wordnet') # used to convert word into its original form\n",
    "nltk.download('punkt') # tokenization; splitting words in sentences\n",
    "\n",
    "data = pd.read_csv(r\"C:\\Users\\KIIT\\Desktop\\mini project\\fake reviews dataset.csv\")\n",
    "print(data.shape)\n",
    "data.head()\n",
    "\n",
    "data['label'].value_counts()\n"
   ]
  },
  {
   "cell_type": "code",
   "execution_count": 3,
   "metadata": {},
   "outputs": [
    {
     "data": {
      "text/html": [
       "<div>\n",
       "<style scoped>\n",
       "    .dataframe tbody tr th:only-of-type {\n",
       "        vertical-align: middle;\n",
       "    }\n",
       "\n",
       "    .dataframe tbody tr th {\n",
       "        vertical-align: top;\n",
       "    }\n",
       "\n",
       "    .dataframe thead th {\n",
       "        text-align: right;\n",
       "    }\n",
       "</style>\n",
       "<table border=\"1\" class=\"dataframe\">\n",
       "  <thead>\n",
       "    <tr style=\"text-align: right;\">\n",
       "      <th></th>\n",
       "      <th>category</th>\n",
       "      <th>rating</th>\n",
       "      <th>label</th>\n",
       "      <th>text_</th>\n",
       "      <th>tokens</th>\n",
       "      <th>tokens_no_stopwords</th>\n",
       "      <th>tokens_stemmed</th>\n",
       "      <th>cleaned_text</th>\n",
       "    </tr>\n",
       "  </thead>\n",
       "  <tbody>\n",
       "    <tr>\n",
       "      <th>0</th>\n",
       "      <td>Home_and_Kitchen_5</td>\n",
       "      <td>5.0</td>\n",
       "      <td>CG</td>\n",
       "      <td>Love this!  Well made, sturdy, and very comfor...</td>\n",
       "      <td>[Love, this!, Well, made,, sturdy,, and, very,...</td>\n",
       "      <td>[Love, this!, Well, made,, sturdy,, comfortabl...</td>\n",
       "      <td>[love, this!, well, made,, sturdy,, comfortabl...</td>\n",
       "      <td>love this! well made, sturdy, comfortable. lov...</td>\n",
       "    </tr>\n",
       "    <tr>\n",
       "      <th>1</th>\n",
       "      <td>Home_and_Kitchen_5</td>\n",
       "      <td>5.0</td>\n",
       "      <td>CG</td>\n",
       "      <td>love it, a great upgrade from the original.  I...</td>\n",
       "      <td>[love, it,, a, great, upgrade, from, the, orig...</td>\n",
       "      <td>[love, it,, great, upgrade, original., mine, c...</td>\n",
       "      <td>[love, it,, great, upgrad, original., mine, co...</td>\n",
       "      <td>love it, great upgrad original. mine coupl year</td>\n",
       "    </tr>\n",
       "    <tr>\n",
       "      <th>2</th>\n",
       "      <td>Home_and_Kitchen_5</td>\n",
       "      <td>5.0</td>\n",
       "      <td>CG</td>\n",
       "      <td>This pillow saved my back. I love the look and...</td>\n",
       "      <td>[This, pillow, saved, my, back., I, love, the,...</td>\n",
       "      <td>[pillow, saved, back., love, look, feel, pillow.]</td>\n",
       "      <td>[pillow, save, back., love, look, feel, pillow.]</td>\n",
       "      <td>pillow save back. love look feel pillow.</td>\n",
       "    </tr>\n",
       "    <tr>\n",
       "      <th>3</th>\n",
       "      <td>Home_and_Kitchen_5</td>\n",
       "      <td>1.0</td>\n",
       "      <td>CG</td>\n",
       "      <td>Missing information on how to use it, but it i...</td>\n",
       "      <td>[Missing, information, on, how, to, use, it,, ...</td>\n",
       "      <td>[Missing, information, use, it,, great, produc...</td>\n",
       "      <td>[miss, inform, use, it,, great, product, price!]</td>\n",
       "      <td>miss inform use it, great product price!</td>\n",
       "    </tr>\n",
       "    <tr>\n",
       "      <th>4</th>\n",
       "      <td>Home_and_Kitchen_5</td>\n",
       "      <td>5.0</td>\n",
       "      <td>CG</td>\n",
       "      <td>Very nice set. Good quality. We have had the s...</td>\n",
       "      <td>[Very, nice, set., Good, quality., We, have, h...</td>\n",
       "      <td>[nice, set., Good, quality., set, two, months]</td>\n",
       "      <td>[nice, set., good, quality., set, two, month]</td>\n",
       "      <td>nice set. good quality. set two month</td>\n",
       "    </tr>\n",
       "  </tbody>\n",
       "</table>\n",
       "</div>"
      ],
      "text/plain": [
       "             category  rating label  \\\n",
       "0  Home_and_Kitchen_5     5.0    CG   \n",
       "1  Home_and_Kitchen_5     5.0    CG   \n",
       "2  Home_and_Kitchen_5     5.0    CG   \n",
       "3  Home_and_Kitchen_5     1.0    CG   \n",
       "4  Home_and_Kitchen_5     5.0    CG   \n",
       "\n",
       "                                               text_  \\\n",
       "0  Love this!  Well made, sturdy, and very comfor...   \n",
       "1  love it, a great upgrade from the original.  I...   \n",
       "2  This pillow saved my back. I love the look and...   \n",
       "3  Missing information on how to use it, but it i...   \n",
       "4  Very nice set. Good quality. We have had the s...   \n",
       "\n",
       "                                              tokens  \\\n",
       "0  [Love, this!, Well, made,, sturdy,, and, very,...   \n",
       "1  [love, it,, a, great, upgrade, from, the, orig...   \n",
       "2  [This, pillow, saved, my, back., I, love, the,...   \n",
       "3  [Missing, information, on, how, to, use, it,, ...   \n",
       "4  [Very, nice, set., Good, quality., We, have, h...   \n",
       "\n",
       "                                 tokens_no_stopwords  \\\n",
       "0  [Love, this!, Well, made,, sturdy,, comfortabl...   \n",
       "1  [love, it,, great, upgrade, original., mine, c...   \n",
       "2  [pillow, saved, back., love, look, feel, pillow.]   \n",
       "3  [Missing, information, use, it,, great, produc...   \n",
       "4     [nice, set., Good, quality., set, two, months]   \n",
       "\n",
       "                                      tokens_stemmed  \\\n",
       "0  [love, this!, well, made,, sturdy,, comfortabl...   \n",
       "1  [love, it,, great, upgrad, original., mine, co...   \n",
       "2   [pillow, save, back., love, look, feel, pillow.]   \n",
       "3   [miss, inform, use, it,, great, product, price!]   \n",
       "4      [nice, set., good, quality., set, two, month]   \n",
       "\n",
       "                                        cleaned_text  \n",
       "0  love this! well made, sturdy, comfortable. lov...  \n",
       "1    love it, great upgrad original. mine coupl year  \n",
       "2           pillow save back. love look feel pillow.  \n",
       "3           miss inform use it, great product price!  \n",
       "4              nice set. good quality. set two month  "
      ]
     },
     "execution_count": 3,
     "metadata": {},
     "output_type": "execute_result"
    }
   ],
   "source": [
    "#preprocessing functions\n",
    "stop_words = set(stopwords.words('english'))\n",
    "stemmer = PorterStemmer()\n",
    "\n",
    "data['tokens'] = data['text_'].apply(lambda x: x.split())\n",
    "data['tokens_no_stopwords'] = data['tokens'].apply(lambda x: [word for word in x if word.lower() not in stop_words])\n",
    "\n",
    "data['tokens_stemmed'] = data['tokens_no_stopwords'].apply(lambda x: [stemmer.stem(word) for word in x])\n",
    "\n",
    "data['cleaned_text'] = data['tokens_stemmed'].apply(lambda x: ' '.join(x))\n",
    "\n",
    "data.head()\n"
   ]
  },
  {
   "cell_type": "code",
   "execution_count": 4,
   "metadata": {},
   "outputs": [],
   "source": [
    "# Initialize the SentimentIntensityAnalyzer (VADER)\n",
    "\n",
    "sia = SentimentIntensityAnalyzer()\n",
    "\n",
    "def get_sentiment(text):\n",
    "    sentiment_score = sia.polarity_scores(text)['compound']\n",
    "    if sentiment_score > 0:\n",
    "        return 'Positive'\n",
    "    elif sentiment_score < 0:\n",
    "        return 'Negative'\n",
    "    else:\n",
    "        return 'Neutral'\n",
    "\n",
    "data['sentiment'] = data['cleaned_text'].apply(get_sentiment)\n",
    "\n",
    "# Count the number of occurrences of each sentiment type\n",
    "sentiment_counts = data['sentiment'].value_counts().reset_index()\n",
    "sentiment_counts.columns = ['Sentiment', 'Count']\n",
    "\n"
   ]
  },
  {
   "cell_type": "code",
   "execution_count": 5,
   "metadata": {},
   "outputs": [
    {
     "name": "stderr",
     "output_type": "stream",
     "text": [
      "C:\\Users\\KIIT\\AppData\\Local\\Temp\\ipykernel_16568\\4126897852.py:3: FutureWarning: \n",
      "\n",
      "Passing `palette` without assigning `hue` is deprecated and will be removed in v0.14.0. Assign the `x` variable to `hue` and set `legend=False` for the same effect.\n",
      "\n",
      "  sns.barplot(x='Sentiment', y='Count', data=sentiment_counts, palette='viridis')\n"
     ]
    },
    {
     "data": {
      "image/png": "[encoded data removed]",
      "text/plain": [
       "<Figure size 500x300 with 1 Axes>"
      ]
     },
     "metadata": {},
     "output_type": "display_data"
    }
   ],
   "source": [
    "# Create a bar plot for overall sentiment distribution\n",
    "plt.figure(figsize=(5, 3))\n",
    "sns.barplot(x='Sentiment', y='Count', data=sentiment_counts, palette='viridis')\n",
    "plt.title('Overall Sentiment Distribution')\n",
    "plt.xlabel('Sentiment')\n",
    "plt.ylabel('Count')\n",
    "plt.show()\n"
   ]
  },
  {
   "cell_type": "code",
   "execution_count": 6,
   "metadata": {},
   "outputs": [
    {
     "data": {
      "image/png": "[encoded data removed]",
      "text/plain": [
       "<Figure size 500x300 with 1 Axes>"
      ]
     },
     "metadata": {},
     "output_type": "display_data"
    }
   ],
   "source": [
    "# If 'label' column contains categories, you can group by it\n",
    "plt.figure(figsize=(5,3))\n",
    "sns.countplot(x='sentiment', hue='label', data=data, palette='Set2')\n",
    "plt.title('Sentiment vs Label')\n",
    "plt.xlabel('Sentiment')\n",
    "plt.ylabel('Count')\n",
    "plt.show()"
   ]
  },
  {
   "cell_type": "code",
   "execution_count": 7,
   "metadata": {},
   "outputs": [
    {
     "name": "stdout",
     "output_type": "stream",
     "text": [
      "(32345,)\n",
      "(8087,)\n"
     ]
    }
   ],
   "source": [
    "from sklearn.model_selection import train_test_split\n",
    "\n",
    "X = data['cleaned_text']  # Feature (text data)\n",
    "y = data['label']  # Target (label data)\n",
    "\n",
    "X_train, X_test, y_train, y_test = train_test_split(X, y, test_size=0.2, random_state=42)\n",
    "\n",
    "\n",
    "print(X_train.shape)\n",
    "print(X_test.shape)"
   ]
  },
  {
   "cell_type": "code",
   "execution_count": 8,
   "metadata": {},
   "outputs": [],
   "source": [
    "vector = TfidfVectorizer(stop_words='english')\n",
    "\n",
    "X_train_vector = vector.fit_transform(X_train)\n",
    "X_test_vector = vector.transform(X_test)"
   ]
  },
  {
   "cell_type": "code",
   "execution_count": 9,
   "metadata": {},
   "outputs": [
    {
     "name": "stdout",
     "output_type": "stream",
     "text": [
      "Cross-validation scores for each fold: [0.85780526 0.85378671 0.8633694  0.85347759 0.85873261 0.86085343\n",
      " 0.86209029 0.860235   0.85003092 0.85157699]\n",
      "Mean accuracy across all folds: 85.72%\n",
      "Standard deviation of accuracy across folds: 0.44%\n",
      "              precision    recall  f1-score   support\n",
      "\n",
      "          CG       0.88      0.82      0.85      4016\n",
      "          OR       0.84      0.89      0.86      4071\n",
      "\n",
      "    accuracy                           0.86      8087\n",
      "   macro avg       0.86      0.86      0.86      8087\n",
      "weighted avg       0.86      0.86      0.86      8087\n",
      "\n"
     ]
    }
   ],
   "source": [
    "model = SGDClassifier(max_iter=45000, penalty='l2', alpha=0.0001)\n",
    "# cross validataion splits the data set in k parts and then finds the mean accuracy for the whole\n",
    "\n",
    "cv_scores = cross_val_score(model, X_train_vector, y_train, cv=10, scoring='accuracy') \n",
    "print(f\"Cross-validation scores for each fold: {cv_scores}\")\n",
    "\n",
    "mean_accuracy = cv_scores.mean()\n",
    "print(f\"Mean accuracy across all folds: {mean_accuracy * 100:.2f}%\")\n",
    "std_accuracy = cv_scores.std()\n",
    "print(f\"Standard deviation of accuracy across folds: {std_accuracy * 100:.2f}%\")\n",
    "\n",
    "model.fit(X_train_vector, y_train)\n",
    "y_pred = model.predict(X_test_vector)\n",
    "print(classification_report(y_test, y_pred))\n",
    "\n",
    "#Logistic regression : 79.21  \n",
    "#Multinomial naive bayes : 76.9\n",
    "#Stochastic gradient descent : 79.42\n",
    "#RandomForestClassifier : 71.97 (after 2m 16.8s)\n",
    "#Bernouli Naive Bayes : 75.46\n",
    "#after sentiment analysis, SDG = 85.74\n",
    "\n",
    "#after using regularisation, no difference was found, l2 was close to the initial accuracy but not greater than it. \n",
    "#using grid search cv also did not help, it chose l2 @45k, alpha = 0.0001\n",
    "\n"
   ]
  },
  {
   "cell_type": "code",
   "execution_count": 10,
   "metadata": {},
   "outputs": [
    {
     "name": "stdout",
     "output_type": "stream",
     "text": [
      "Confusion Matrix:\n",
      "[[3311  705]\n",
      " [ 465 3606]]\n"
     ]
    },
    {
     "data": {
      "image/png": "[encoded data removed]",
      "text/plain": [
       "<Figure size 500x300 with 2 Axes>"
      ]
     },
     "metadata": {},
     "output_type": "display_data"
    }
   ],
   "source": [
    "conf_matrix = metrics.confusion_matrix(y_test, y_pred)\n",
    "print(\"Confusion Matrix:\")\n",
    "print(conf_matrix)\n",
    "\n",
    "# Plotting the confusion matrix\n",
    "plt.figure(figsize=(5, 3))\n",
    "sns.heatmap(conf_matrix, annot=True, fmt='d', cmap='Blues', xticklabels=np.unique(y_test), yticklabels=np.unique(y_pred))\n",
    "plt.ylabel('Actual')\n",
    "plt.xlabel('Predicted')\n",
    "plt.title('Confusion Matrix')\n",
    "plt.show()"
   ]
  },
  {
   "cell_type": "code",
   "execution_count": 14,
   "metadata": {},
   "outputs": [
    {
     "name": "stdout",
     "output_type": "stream",
     "text": [
      "Prediction: CG\n"
     ]
    }
   ],
   "source": [
    "def preprocess_input(input_text):\n",
    "    tokens = input_text.split()\n",
    "    tokens_no_stopwords = [word for word in tokens if word.lower() not in stop_words]\n",
    "    tokens_stemmed = [stemmer.stem(word) for word in tokens_no_stopwords]\n",
    "    cleaned_text = ' '.join(tokens_stemmed)\n",
    "    \n",
    "    return cleaned_text\n",
    "\n",
    "\n",
    "def predict_sentiment(input_text):\n",
    "    cleaned_input = preprocess_input(input_text)\n",
    "    input_vector = vector.transform([cleaned_input])  # Transform it to the vector space used during training\n",
    "    prediction = model.predict(input_vector)\n",
    "    return prediction[0]  # return the predicted class (0 or 1)\n",
    "\n",
    "# Define your input string\n",
    "input_string = \"Good\"\n",
    "\n",
    "# Get the prediction result\n",
    "prediction = predict_sentiment(input_string)\n",
    "\n",
    "# Print the result (if '1' means fake and '0' means real, for instance)\n",
    "print(f\"Prediction: {prediction}\")\n"
   ]
  }
 ],
 "metadata": {
  "kernelspec": {
   "display_name": "Python 3",
   "language": "python",
   "name": "python3"
  },
  "language_info": {
   "codemirror_mode": {
    "name": "ipython",
    "version": 3
   },
   "file_extension": ".py",
   "mimetype": "text/x-python",
   "name": "python",
   "nbconvert_exporter": "python",
   "pygments_lexer": "ipython3",
   "version": "3.11.3"
  }
 },
 "nbformat": 4,
 "nbformat_minor": 2
}
